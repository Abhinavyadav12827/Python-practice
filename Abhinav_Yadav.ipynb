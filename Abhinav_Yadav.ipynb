{
  "nbformat": 4,
  "nbformat_minor": 0,
  "metadata": {
    "kernelspec": {
      "display_name": "Python 3",
      "language": "python",
      "name": "python3"
    },
    "language_info": {
      "codemirror_mode": {
        "name": "ipython",
        "version": 3
      },
      "file_extension": ".py",
      "mimetype": "text/x-python",
      "name": "python",
      "nbconvert_exporter": "python",
      "pygments_lexer": "ipython3",
      "version": "3.7.4"
    },
    "colab": {
      "provenance": [],
      "include_colab_link": true
    }
  },
  "cells": [
    {
      "cell_type": "markdown",
      "metadata": {
        "id": "view-in-github",
        "colab_type": "text"
      },
      "source": [
        "<a href=\"https://colab.research.google.com/github/Abhinavyadav12827/Python-practice/blob/main/Abhinav_Yadav.ipynb\" target=\"_parent\"><img src=\"https://colab.research.google.com/assets/colab-badge.svg\" alt=\"Open In Colab\"/></a>"
      ]
    },
    {
      "cell_type": "markdown",
      "source": [
        "Stone Paper Sciccors game"
      ],
      "metadata": {
        "id": "jZhGi6E8vYHq"
      }
    },
    {
      "cell_type": "code",
      "source": [
        "import random\n",
        "def game(comp,you):\n",
        "  if comp==you:\n",
        "    return None\n",
        "  elif comp == 's':\n",
        "    if you == 'sc':\n",
        "      return False\n",
        "    elif you == 'p':\n",
        "      return True\n",
        "  elif comp == 'p':\n",
        "    if you == 's':\n",
        "      return False\n",
        "    elif you == 'sc':\n",
        "      return True\n",
        "  elif comp == 'sc':\n",
        "    if you == 'p':\n",
        "      return False\n",
        "    elif you == 's':\n",
        "      return True\n",
        "\n",
        "print('comp turn: Stone(s) Paper(p) or Sciccors(sc)')\n",
        "rano=random.randint(1,3)\n",
        "if rano== 1:\n",
        "  comp= 's'\n",
        "elif rano== 2:\n",
        "  comp= 'p'\n",
        "elif rano== 3:\n",
        "  comp= 'sc'\n",
        "\n",
        "you=input('Your turn: Stone(s) Paper(p) or Sciccors(sc)?')\n",
        "a=game(comp,you)\n",
        "if a== None:\n",
        "  print('you chose  '+ you )\n",
        "  print('comp chose  '+ comp )\n",
        "  print('The game is tie')\n",
        "elif a:\n",
        "  print('you chose  '+ you )\n",
        "  print('comp chose  '+ comp )\n",
        "  print('You win')\n",
        "else:\n",
        "  print('you chose  '+ you )\n",
        "  print('comp chose  '+ comp )\n",
        "  print('You lose')"
      ],
      "metadata": {
        "colab": {
          "base_uri": "https://localhost:8080/"
        },
        "id": "uGeyAnzqoK2k",
        "outputId": "4ad7251a-5696-4e4f-d928-acb41c111683"
      },
      "execution_count": 38,
      "outputs": [
        {
          "output_type": "stream",
          "name": "stdout",
          "text": [
            "comp turn: Stone(s) Paper(p) or Sciccors(sc)\n",
            "Your turn: Stone(s) Paper(p) or Sciccors(sc)?s\n",
            "you chose  s\n",
            "comp chose  p\n",
            "You lose\n"
          ]
        }
      ]
    },
    {
      "cell_type": "code",
      "source": [
        "import numpy as np\n",
        "a=np.random.random((2,2,3,2))\n",
        "a\n",
        "import pandas as pd"
      ],
      "metadata": {
        "id": "vpACR88xt9iw"
      },
      "execution_count": null,
      "outputs": []
    },
    {
      "cell_type": "code",
      "source": [
        "c=np.random.randint(1,10,(3,2,2,2,5))\n",
        "c"
      ],
      "metadata": {
        "colab": {
          "base_uri": "https://localhost:8080/"
        },
        "id": "KmRECZK2wP1i",
        "outputId": "490e6041-75cc-455e-8503-e6be2f22ea82"
      },
      "execution_count": null,
      "outputs": [
        {
          "output_type": "execute_result",
          "data": {
            "text/plain": [
              "array([[[[[3, 6, 2, 1, 7],\n",
              "          [7, 9, 6, 8, 8]],\n",
              "\n",
              "         [[6, 9, 6, 9, 9],\n",
              "          [4, 8, 7, 3, 1]]],\n",
              "\n",
              "\n",
              "        [[[3, 7, 6, 6, 6],\n",
              "          [4, 9, 7, 8, 5]],\n",
              "\n",
              "         [[9, 4, 5, 6, 2],\n",
              "          [2, 8, 6, 4, 7]]]],\n",
              "\n",
              "\n",
              "\n",
              "       [[[[5, 8, 5, 7, 2],\n",
              "          [4, 9, 1, 7, 7]],\n",
              "\n",
              "         [[4, 1, 1, 4, 1],\n",
              "          [1, 3, 4, 2, 1]]],\n",
              "\n",
              "\n",
              "        [[[2, 3, 8, 7, 6],\n",
              "          [1, 5, 6, 1, 6]],\n",
              "\n",
              "         [[7, 9, 2, 9, 8],\n",
              "          [9, 4, 6, 6, 3]]]],\n",
              "\n",
              "\n",
              "\n",
              "       [[[[6, 9, 7, 3, 9],\n",
              "          [9, 6, 3, 8, 6]],\n",
              "\n",
              "         [[7, 5, 5, 1, 5],\n",
              "          [9, 8, 7, 4, 9]]],\n",
              "\n",
              "\n",
              "        [[[8, 9, 2, 9, 9],\n",
              "          [6, 3, 6, 8, 9]],\n",
              "\n",
              "         [[9, 2, 6, 5, 5],\n",
              "          [7, 6, 1, 1, 3]]]]])"
            ]
          },
          "metadata": {},
          "execution_count": 2
        }
      ]
    },
    {
      "cell_type": "code",
      "source": [
        "c.ndim"
      ],
      "metadata": {
        "colab": {
          "base_uri": "https://localhost:8080/"
        },
        "id": "kbjArMFut9Z8",
        "outputId": "d068dfda-6412-4a8d-985f-3246cadedaa0"
      },
      "execution_count": null,
      "outputs": [
        {
          "output_type": "execute_result",
          "data": {
            "text/plain": [
              "5"
            ]
          },
          "metadata": {},
          "execution_count": 3
        }
      ]
    },
    {
      "cell_type": "code",
      "source": [
        "c.sum(axis=4)"
      ],
      "metadata": {
        "colab": {
          "base_uri": "https://localhost:8080/"
        },
        "id": "qq4yAqa9t9QA",
        "outputId": "e425cad5-e064-464e-dd1d-4c9c57d66474"
      },
      "execution_count": null,
      "outputs": [
        {
          "output_type": "execute_result",
          "data": {
            "text/plain": [
              "array([[[[19, 38],\n",
              "         [39, 23]],\n",
              "\n",
              "        [[28, 33],\n",
              "         [26, 27]]],\n",
              "\n",
              "\n",
              "       [[[27, 28],\n",
              "         [11, 11]],\n",
              "\n",
              "        [[26, 19],\n",
              "         [35, 28]]],\n",
              "\n",
              "\n",
              "       [[[34, 32],\n",
              "         [23, 37]],\n",
              "\n",
              "        [[37, 32],\n",
              "         [27, 18]]]])"
            ]
          },
          "metadata": {},
          "execution_count": 4
        }
      ]
    },
    {
      "cell_type": "markdown",
      "source": [
        "Q Write a code to find the second lowest score,if there are two student's with lowest score then print the first in alphabetical order."
      ],
      "metadata": {
        "id": "PQNYgs-sT9QC"
      }
    },
    {
      "cell_type": "code",
      "metadata": {
        "id": "sn4BtpEIJbOr",
        "colab": {
          "base_uri": "https://localhost:8080/"
        },
        "outputId": "f0b17b14-1720-43e8-d59d-afdbaf66e251"
      },
      "source": [
        "#input:-\n",
        "# 2\n",
        "# a\n",
        "# 1\n",
        "# b\n",
        "# 2\n",
        "#output:- b\n",
        "name1=[]\n",
        "score1=[]\n",
        "min1=[]\n",
        "names=[]\n",
        "if __name__ == '__main__':\n",
        "# here we are taking input from user of how many student names he wants to add.\n",
        "  s=(int(input()))\n",
        "  for _ in range(s):\n",
        "        name = input()\n",
        "        score = float(input())\n",
        "# here i have stored the inputed names and their respective scores in seprate lists.\n",
        "        name1.append(name)\n",
        "        score1.append(score)\n",
        "# then i zipped them together.\n",
        "lol=list(zip(name1,score1))\n",
        "# then i have stored all the names with scores in decending order. key =lambda i : float(i[1]))] will insure that the sorting is being done on the basis of the scores of the students.\n",
        "# lambda is an anonymous functions which is mapping float to keys.\n",
        "lolo=[x for x in sorted(lol,reverse=True,key=lambda i :float(i[1]))]\n",
        "# i had to find the second lowest score so i removed all the lowest scores using while loop.lowest score i identified from indexing.\n",
        "ij=lolo[-1]\n",
        "while ij[1]==lolo[-1][1]:\n",
        "  for i in lolo:\n",
        "    if i[1]==lolo[-1][1]:\n",
        "      lolo.remove(i)\n",
        "# then the last index of list lolo was left with second lowest score.which i then appended in the list min1.\n",
        "for j in lolo:\n",
        "  if j[1]==lolo[-1][1]:\n",
        "    min1.append(j)\n",
        "#then i had to give the output in alphabetical order so i sorted it out.\n",
        "min1.sort()\n",
        "for ac in min1:\n",
        "    names.append(ac[0])\n",
        "print(*names,sep='\\n')\n",
        "# in the last print statement i just unpacked the list 'names' using * and seperated them for next line which was the desired output.\n"
      ],
      "execution_count": 1,
      "outputs": [
        {
          "output_type": "stream",
          "name": "stdout",
          "text": [
            "5\n",
            "abhinav\n",
            "99\n",
            "priya\n",
            "102\n",
            "abhishek\n",
            "85\n",
            "sunny\n",
            "45\n",
            "yamini\n",
            "45\n",
            "abhishek\n"
          ]
        }
      ]
    },
    {
      "cell_type": "code",
      "metadata": {
        "id": "oQYLI1w4JbOx"
      },
      "source": [
        "#input:-\n",
        "# 3\n",
        "# abhinav 22 25 23\n",
        "# priya 22 25 24\n",
        "# muskan 44 88 66\n",
        "# muskan\n",
        "if __name__ == '__main__':\n",
        "    n = int(input())\n",
        "    student_marks = {}\n",
        "    for _ in range(n):\n",
        "        name, *line = input().split()\n",
        "        scores = list(map(float, line))\n",
        "        student_marks[name] = scores\n",
        "# here student marks dict will store values to the keys.\n",
        "    query_name = input()\n",
        "ab=student_marks[query_name]\n",
        "average=(ab[0]+ab[1]+ab[2])/len(ab)\n",
        "print(\"{:0.2f}\\n\".format(average))\n",
        "# in this peice of code n is the input of no of students, i had to calculate the average of the student which was to be specified by the user,in the line name ,*line= input will take inpit from user\n",
        "# and will store first input in name and rest in lines by using split(),then scores is a list of the scores of the students mapped with lines into float.\n",
        "#query_name is the variable which stores the name of student of which average is to be found out.then i created  a variable containing the name asked.\n",
        "#and i just put the formula for it\n",
        "# in the question the desired output was to include 2 digits after decimal either it be 00 so i tried round off function but it didn't icluded 00 so i decided to print in this format instead.\n",
        "# ':' introduces the format spec\n",
        "# '0' enables sign-aware zero-padding for numeric types\n",
        "# '.2' sets the precision to 2\n",
        "# 'f' displays the number as a fixed-point number"
      ],
      "execution_count": null,
      "outputs": []
    },
    {
      "cell_type": "markdown",
      "source": [
        "Write a code to swapcases"
      ],
      "metadata": {
        "id": "GGtMHqrxVp-l"
      }
    },
    {
      "cell_type": "code",
      "metadata": {
        "id": "-nwZ9QhfJbO8",
        "colab": {
          "base_uri": "https://localhost:8080/"
        },
        "outputId": "5683ff80-2d68-4c06-d02e-28669813a5a1"
      },
      "source": [
        "def swap_case(s):\n",
        "    return s.swapcase()\n",
        "if __name__ == '__main__':\n",
        "    s = input()\n",
        "    result = swap_case(s)\n",
        "    print(result)"
      ],
      "execution_count": 2,
      "outputs": [
        {
          "output_type": "stream",
          "name": "stdout",
          "text": [
            "aBHINAV yADAV\n",
            "Abhinav Yadav\n"
          ]
        }
      ]
    },
    {
      "cell_type": "markdown",
      "source": [
        "SPLIT AND JOIN OF A STRING"
      ],
      "metadata": {
        "id": "Na_0QiSPV_V0"
      }
    },
    {
      "cell_type": "code",
      "metadata": {
        "id": "JuBKbD6rJbO-",
        "colab": {
          "base_uri": "https://localhost:8080/"
        },
        "outputId": "37098fc3-356b-4a4d-81de-22a5424db1ad"
      },
      "source": [
        "def split_and_join(line):\n",
        "    a=line.split(' ')\n",
        "    a='-'.join(a)\n",
        "    return a\n",
        "if __name__ == '__main__':\n",
        "    line = input()\n",
        "    result = split_and_join(line)\n",
        "    print(result)"
      ],
      "execution_count": 4,
      "outputs": [
        {
          "output_type": "stream",
          "name": "stdout",
          "text": [
            "ABHINAV YADAV IS A CODER\n",
            "ABHINAV-YADAV-IS-A-CODER\n"
          ]
        }
      ]
    },
    {
      "cell_type": "code",
      "metadata": {
        "id": "GwB4UnlJJbPD"
      },
      "source": [
        "#@title\n",
        "first='Abhinav'\n",
        "last='Yadav'\n",
        "print('Hello'+' '+first+' '+last+'You just delved into python')"
      ],
      "execution_count": null,
      "outputs": []
    },
    {
      "cell_type": "markdown",
      "source": [
        "COUNT THE NUMBER OF SUBSTRINGS IN THE GIVEN LINE"
      ],
      "metadata": {
        "id": "0jXooEhpWEfS"
      }
    },
    {
      "cell_type": "code",
      "metadata": {
        "id": "tL0-wPcvJbPF",
        "colab": {
          "base_uri": "https://localhost:8080/"
        },
        "outputId": "1a6d2a40-82e9-4896-da5e-d577d3bba2f2"
      },
      "source": [
        "def count_substring(string, sub_string):\n",
        "  if sub_string in string:\n",
        "    a=string.find(sub_string)\n",
        "    return a\n",
        "  else:\n",
        "    return 0\n",
        "\n",
        "if __name__ == '__main__':\n",
        "    string = input().strip()\n",
        "    sub_string = input().strip()\n",
        "    \n",
        "    count = count_substring(string, sub_string)\n",
        "    print(count)"
      ],
      "execution_count": 5,
      "outputs": [
        {
          "output_type": "stream",
          "name": "stdout",
          "text": [
            "ABHINAV\n",
            "BHI\n",
            "1\n"
          ]
        }
      ]
    },
    {
      "cell_type": "code",
      "metadata": {
        "id": "Zx1mkJYQJbPJ"
      },
      "source": [
        "if __name__ == '__main__':\n",
        "    s = input()\n",
        "    print(any(map(str.isalnum, s)))\n",
        "    print(any(map(str.isalpha, s)))\n",
        "    print(any(map(str.isdigit, s)))\n",
        "    print(any(map(str.islower, s)))\n",
        "    print(any(map(str.isupper, s)))"
      ],
      "execution_count": null,
      "outputs": []
    },
    {
      "cell_type": "markdown",
      "source": [
        "FIND OUT THE MISSING ALPHABETS FROM THE GIVEN SENTENCE"
      ],
      "metadata": {
        "id": "J87CxT88XCdj"
      }
    },
    {
      "cell_type": "code",
      "source": [
        "alphabets=[]\n",
        "a='abcdefghijklmnopqrstuvwxyz'\n",
        "for i in a:\n",
        "  alphabets.append(i)\n",
        "\n",
        "def missing_alphabets(user_string):\n",
        "  alphabets=[]\n",
        "  sentence1=[]\n",
        "  a='abcdefghijklmnopqrstuvwxyz'\n",
        "  for i in a:\n",
        "    alphabets.append(i)\n",
        "    c=user_string.lower()\n",
        "# i have stored the user input in lower case in c and then iterated c for j now j has single values of c\n",
        "    for j in c:\n",
        "      sentence1.append(j)\n",
        "      y=set(alphabets)-set(sentence1)\n",
        "      w=''.join(y)\n",
        "  print('the missing letters are '+w)  \n",
        "\n",
        "\n",
        "ag=input()\n",
        "missing_alphabets(ag)"
      ],
      "metadata": {
        "id": "v05qWNo1pWfd",
        "colab": {
          "base_uri": "https://localhost:8080/"
        },
        "outputId": "149f4be0-3874-4d20-abe1-fa921a77a000"
      },
      "execution_count": 6,
      "outputs": [
        {
          "output_type": "stream",
          "name": "stdout",
          "text": [
            "ABHINAV YADAV IS GOING TO BE A GREAT DATA SCIENTIST ONE DAY\n",
            "the missing letters are mkpjlfzwxuq\n"
          ]
        }
      ]
    },
    {
      "cell_type": "markdown",
      "source": [
        "write a code to print output of a string into substrings where the partup of the substring should be equal to lenth of string divided by k and the substrings should not contain any duplicate alphabet,\n",
        "not:-len of the input string should be completely divisible by k."
      ],
      "metadata": {
        "id": "iNjLGzDOac6Y"
      }
    },
    {
      "cell_type": "code",
      "source": [
        "a='ADABCDANA'\n",
        "k=3\n",
        "n=len(a)\n",
        "ase=int(n/k)\n",
        "add=int(n/k)\n",
        "b=[]\n",
        "d=[]\n",
        "u=0\n",
        "w=0\n",
        "# i have used u variable as a starting point and i am adding the steps to u in the for loop and simply indexing and storing the values.\n",
        "for i in range(0,ase):\n",
        "  b.append(a[u:add])\n",
        "  u=u+ase\n",
        "  add=add+add\n",
        "# here i have executed a for loop on list b so nevery item of list b undergoes the conversion to dict to eliminate any duplicate values and then i have stored them in d.\n",
        "for char in b:\n",
        "  d.append(\"\".join(dict.fromkeys(char)))\n",
        "print(*d,sep='\\n')\n",
        "\n",
        "\n",
        "  "
      ],
      "metadata": {
        "id": "auFJxdGDuZ5Z",
        "colab": {
          "base_uri": "https://localhost:8080/"
        },
        "outputId": "0f459279-83df-4128-ceb8-563934257615"
      },
      "execution_count": 11,
      "outputs": [
        {
          "output_type": "stream",
          "name": "stdout",
          "text": [
            "AD\n",
            "BCD\n",
            "AN\n"
          ]
        }
      ]
    },
    {
      "cell_type": "markdown",
      "source": [
        "or"
      ],
      "metadata": {
        "id": "QTIKlkCljdZY"
      }
    },
    {
      "cell_type": "code",
      "source": [
        "class sub:\n",
        "  def __init__(self,a,k):\n",
        "    self.a=a\n",
        "    self.k=k\n",
        "    n=len(self.a)\n",
        "  def find(self):\n",
        "    ase=int(n/self.k)\n",
        "    add=int(n/self.k)\n",
        "    b=[]\n",
        "    d=[]\n",
        "    u=0\n",
        "    w=0\n",
        "    o=0\n",
        "    for i in range(0,ase):\n",
        "      b.append(self.a[u:add])\n",
        "      u=u+ase\n",
        "      add=add+add\n",
        "    for char in b:\n",
        "      d.append(\"\".join(dict.fromkeys(char)))\n",
        "    return print('\\n'.join(d))\n",
        "        \n",
        "car=sub('aaaaabbbbbaababababab',2)\n",
        "car.find()"
      ],
      "metadata": {
        "id": "GoOMfQ5FtQoA",
        "colab": {
          "base_uri": "https://localhost:8080/"
        },
        "outputId": "165ae8e4-1a4b-474e-8397-1b211a70d80e"
      },
      "execution_count": 12,
      "outputs": [
        {
          "output_type": "stream",
          "name": "stdout",
          "text": [
            "a\n",
            "ab\n",
            "ba\n",
            "ba\n"
          ]
        }
      ]
    },
    {
      "cell_type": "markdown",
      "source": [
        "or"
      ],
      "metadata": {
        "id": "AJewtKgkjav5"
      }
    },
    {
      "cell_type": "code",
      "source": [
        "def merge_the_tools(string, k):\n",
        "    # your code goes here\n",
        "    temp = []\n",
        "    len_temp = 0\n",
        "    for item in string:\n",
        "        len_temp += 1\n",
        "        if item not in temp:\n",
        "            temp.append(item)\n",
        "        if len_temp == k:\n",
        "            print (''.join(temp))\n",
        "            temp = []\n",
        "            len_temp = 0\n",
        "if __name__ == '__main__':\n",
        "    string, k = input(), int(input())\n",
        "    merge_the_tools(string, k)"
      ],
      "metadata": {
        "id": "tdZF-4_FQSUm",
        "colab": {
          "base_uri": "https://localhost:8080/"
        },
        "outputId": "5e786f61-e5ee-4d10-9bf5-ad5dd84dc404"
      },
      "execution_count": 13,
      "outputs": [
        {
          "output_type": "stream",
          "name": "stdout",
          "text": [
            "abhinav\n",
            "3\n",
            "abh\n",
            "ina\n"
          ]
        }
      ]
    },
    {
      "cell_type": "code",
      "source": [
        "#write a code to print the domain if the mail is valid\n",
        "def mail(email):\n",
        "  mail=[]\n",
        "  username=[]\n",
        "  domain=[]\n",
        "  \n",
        "  special_characters='\"!#$%^&*()<,>/?|\\\"'\n",
        "  for i in email:\n",
        "    if i in special_characters:\n",
        "      return 'invalid email please remove special characters '+ special_characters\n",
        "    elif i not in special_characters:\n",
        "      mail.append(i)\n",
        "  v=mail.index('@')\n",
        "  for j in mail:\n",
        "    username.append(mail[0:v])\n",
        "  for k in mail:\n",
        "    domain.extend(mail[v+1:len(mail)])\n",
        "    break\n",
        "  w=\"\".join(domain)\n",
        "  return w\n",
        "\n",
        "\n",
        "dr=input()\n",
        "mail(dr)"
      ],
      "metadata": {
        "id": "P0UhT3qlMDPZ",
        "colab": {
          "base_uri": "https://localhost:8080/",
          "height": 54
        },
        "outputId": "77bd723b-6e8b-442f-e908-0ebfa65207f6"
      },
      "execution_count": 19,
      "outputs": [
        {
          "name": "stdout",
          "output_type": "stream",
          "text": [
            "abhinav*@gmail.com\n"
          ]
        },
        {
          "output_type": "execute_result",
          "data": {
            "text/plain": [
              "'invalid email please remove special characters \"!#$%^&*()<,>/?|\"'"
            ],
            "application/vnd.google.colaboratory.intrinsic+json": {
              "type": "string"
            }
          },
          "metadata": {},
          "execution_count": 19
        }
      ]
    },
    {
      "cell_type": "code",
      "source": [
        "def merge_the_tools(string, k):\n",
        "    n=len(string)\n",
        "    ase=int(n/k)\n",
        "    add=int(n/k)\n",
        "    b=[]\n",
        "    d=[]\n",
        "    u=0\n",
        "    w=0\n",
        "    for i in range(0,ase):\n",
        "        b.append(string[u:add])\n",
        "        u=u+ase\n",
        "        add=add+add\n",
        "    for char in b:\n",
        "        d.append(\"\".join(dict.fromkeys(char)))\n",
        "print(*d,sep='\\n')\n",
        "\n",
        "if __name__ == '__main__':\n",
        "    string, k = input(), int(input())\n",
        "    merge_the_tools(string, k)"
      ],
      "metadata": {
        "id": "mvm6TjYXMX9B"
      },
      "execution_count": null,
      "outputs": []
    },
    {
      "cell_type": "code",
      "source": [
        "a='ADA'\n",
        "p=\"\" \n",
        "for char in a:\n",
        "  if char not in p:\n",
        "    p=p+char\n",
        "p"
      ],
      "metadata": {
        "id": "benU658BAvun",
        "colab": {
          "base_uri": "https://localhost:8080/",
          "height": 36
        },
        "outputId": "7c153d37-09f7-4ac5-f690-9bb81be8abca"
      },
      "execution_count": 20,
      "outputs": [
        {
          "output_type": "execute_result",
          "data": {
            "text/plain": [
              "'AD'"
            ],
            "application/vnd.google.colaboratory.intrinsic+json": {
              "type": "string"
            }
          },
          "metadata": {},
          "execution_count": 20
        }
      ]
    },
    {
      "cell_type": "code",
      "source": [
        "#missing numbers in a array\n",
        "n=10\n",
        "array={6,1,2,8,3,4,7,10,5}\n",
        "def MissingNumber(array,n):\n",
        "  a=[x for x in range(1,n+1)]\n",
        "  y=set(a)-set(array)\n",
        "  return y\n",
        "MissingNumber({6,1,2,8,3,4,7,10,5},10)"
      ],
      "metadata": {
        "id": "fH9DosDxIO0U",
        "colab": {
          "base_uri": "https://localhost:8080/"
        },
        "outputId": "cd0f1ddf-e068-4acc-858f-4c3451db1f16"
      },
      "execution_count": 22,
      "outputs": [
        {
          "output_type": "execute_result",
          "data": {
            "text/plain": [
              "{9}"
            ]
          },
          "metadata": {},
          "execution_count": 22
        }
      ]
    },
    {
      "cell_type": "code",
      "source": [
        "a=[1,3,5,8,9,2,6,7,6,8,9]\n",
        "print(a[0::1])\n",
        "print(a[1::3])\n",
        "print(a[4::9])"
      ],
      "metadata": {
        "id": "sdknxmbyEQGj"
      },
      "execution_count": null,
      "outputs": []
    },
    {
      "cell_type": "markdown",
      "source": [
        "KADANE'S THEORM"
      ],
      "metadata": {
        "id": "pNpkz_dfCX4S"
      }
    },
    {
      "cell_type": "code",
      "source": [
        "sum=0\n",
        "maxi=arr[0]\n",
        "arr=[1,2,3,-2,5]\n",
        "for i in arr:\n",
        "  sum=sum+i\n",
        "  maxi=max(maxi,sum)\n",
        "  if sum<0:\n",
        "    sum=0\n",
        "maxi\n",
        "#    d=[]\n",
        "#    arr=[5,4,-1,7,8]\n",
        "#    for i in range(0,len(arr)):\n",
        "#      sum=0\n",
        "#      for j in range(1,len(arr)-i+1):\n",
        "#        sum=sum+arr[j]\n",
        "#        d.append(arr[i:i+j])"
      ],
      "metadata": {
        "id": "-Xnx69nk7cjq"
      },
      "execution_count": null,
      "outputs": []
    },
    {
      "cell_type": "markdown",
      "source": [
        "object oriented programming examples."
      ],
      "metadata": {
        "id": "CWIrNUHhlvI5"
      }
    },
    {
      "cell_type": "code",
      "source": [
        "class Room:\n",
        "    length = 0.0\n",
        "    breadth = 0.0\n",
        "    def calculate_area(self):\n",
        "        print(\"Area of Room =\", self.length * self.breadth)\n",
        "\n",
        "study_room = Room() \n",
        "study_room.length = 42.5\n",
        "study_room.breadth = 30.8\n",
        "study_room.calculate_area()"
      ],
      "metadata": {
        "id": "3vVudiQnHEpb"
      },
      "execution_count": null,
      "outputs": []
    },
    {
      "cell_type": "code",
      "source": [
        "class Car:\n",
        "  def __init__(self,color,engine):\n",
        "    self.color1=color\n",
        "    self.engine1=engine\n"
      ],
      "metadata": {
        "id": "rkaiFF3C-_Pz"
      },
      "execution_count": null,
      "outputs": []
    },
    {
      "cell_type": "code",
      "source": [
        " import numpy as np\n",
        "\n",
        "arr = np.array([[1, 2, 3, 4, 5],[4,5,6,7,8]])\n",
        "\n",
        "print(arr)\n",
        "\n",
        "print(type(arr))\n"
      ],
      "metadata": {
        "id": "Zt2gDEY-hSjo"
      },
      "execution_count": null,
      "outputs": []
    },
    {
      "cell_type": "code",
      "metadata": {
        "id": "TQqmyhbIk9Ol"
      },
      "source": [
        "import numpy as np\n",
        "import pandas as pd"
      ],
      "execution_count": null,
      "outputs": []
    },
    {
      "cell_type": "code",
      "source": [
        "from google.colab import drive\n",
        "drive.mount('/content/drive')"
      ],
      "metadata": {
        "colab": {
          "base_uri": "https://localhost:8080/"
        },
        "id": "qmmNK0wKzl-H",
        "outputId": "411481a6-2355-40ee-c664-6c28457b5563"
      },
      "execution_count": null,
      "outputs": [
        {
          "output_type": "stream",
          "name": "stdout",
          "text": [
            "Mounted at /content/drive\n"
          ]
        }
      ]
    },
    {
      "cell_type": "code",
      "source": [
        "df=pd.read_csv('/content/drive/MyDrive/ex/Financials Sample Data.csv')"
      ],
      "metadata": {
        "id": "JT8lELOuz1JA"
      },
      "execution_count": null,
      "outputs": []
    },
    {
      "cell_type": "code",
      "source": [
        "df.to_csv('Financials Sample Data', sep='\\t')"
      ],
      "metadata": {
        "id": "E86hWoNU10pC"
      },
      "execution_count": null,
      "outputs": []
    },
    {
      "cell_type": "code",
      "source": [
        "df.dtypes"
      ],
      "metadata": {
        "colab": {
          "base_uri": "https://localhost:8080/"
        },
        "id": "OJmTEB0a2nRT",
        "outputId": "e728161f-a58e-4f4b-d602-d1b824841b3a"
      },
      "execution_count": null,
      "outputs": [
        {
          "output_type": "execute_result",
          "data": {
            "text/plain": [
              "Account          object\n",
              "Businees Unit    object\n",
              "Currency         object\n",
              "Year              int64\n",
              "Scenario         object\n",
              "Jan              object\n",
              "Feb              object\n",
              "Mar              object\n",
              "Apr              object\n",
              "May              object\n",
              "Jun              object\n",
              "Jul              object\n",
              "Aug              object\n",
              "Sep              object\n",
              "Oct              object\n",
              "Nov              object\n",
              "Dec              object\n",
              "dtype: object"
            ]
          },
          "metadata": {},
          "execution_count": 24
        }
      ]
    },
    {
      "cell_type": "code",
      "source": [
        "df.dtypes"
      ],
      "metadata": {
        "colab": {
          "base_uri": "https://localhost:8080/"
        },
        "id": "9Fdxy8OS2Vzi",
        "outputId": "afe4ba52-42ef-4ca4-8cbb-0be822353903"
      },
      "execution_count": null,
      "outputs": [
        {
          "output_type": "execute_result",
          "data": {
            "text/plain": [
              "Account          object\n",
              "Businees Unit    object\n",
              "Currency         object\n",
              "Year              int64\n",
              "Scenario         object\n",
              "Jan               int64\n",
              "Feb               int64\n",
              "Mar               int64\n",
              "Apr               int64\n",
              "May               int64\n",
              "Jun               int64\n",
              "Jul               int64\n",
              "Aug               int64\n",
              "Sep               int64\n",
              "Oct               int64\n",
              "Nov               int64\n",
              "Dec               int64\n",
              "dtype: object"
            ]
          },
          "metadata": {},
          "execution_count": 115
        }
      ]
    },
    {
      "cell_type": "code",
      "source": [
        "df.isnull().sum()"
      ],
      "metadata": {
        "colab": {
          "base_uri": "https://localhost:8080/"
        },
        "id": "FFdDcIW-22xy",
        "outputId": "2ea6e206-3d3c-4b6e-df00-d74e1728ebc0"
      },
      "execution_count": null,
      "outputs": [
        {
          "output_type": "execute_result",
          "data": {
            "text/plain": [
              "Account          0\n",
              "Businees Unit    0\n",
              "Currency         0\n",
              "Year             0\n",
              "Scenario         0\n",
              "Jan              0\n",
              "Feb              0\n",
              "Mar              0\n",
              "Apr              0\n",
              "May              0\n",
              "Jun              0\n",
              "Jul              0\n",
              "Aug              0\n",
              "Sep              0\n",
              "Oct              0\n",
              "Nov              0\n",
              "Dec              0\n",
              "dtype: int64"
            ]
          },
          "metadata": {},
          "execution_count": 110
        }
      ]
    },
    {
      "cell_type": "code",
      "source": [
        "androidVar_count_df = pd.DataFrame(df['Jan'].value_counts())\n",
        "androidVar_count_df"
      ],
      "metadata": {
        "colab": {
          "base_uri": "https://localhost:8080/",
          "height": 423
        },
        "id": "4y0FWRr07Wip",
        "outputId": "55501d94-6f9d-4728-8de9-04e9fbeeeda4"
      },
      "execution_count": null,
      "outputs": [
        {
          "output_type": "execute_result",
          "data": {
            "text/plain": [
              "           Jan\n",
              "90924002     1\n",
              "1206445      1\n",
              "1079788      1\n",
              "261109       1\n",
              "2686116      1\n",
              "...        ...\n",
              "6635711      1\n",
              "4657393      1\n",
              "3683094      1\n",
              "818929       1\n",
              "545525       1\n",
              "\n",
              "[351 rows x 1 columns]"
            ],
            "text/html": [
              "\n",
              "  <div id=\"df-040ef73d-cdc2-4f3e-ac6b-53383a973433\">\n",
              "    <div class=\"colab-df-container\">\n",
              "      <div>\n",
              "<style scoped>\n",
              "    .dataframe tbody tr th:only-of-type {\n",
              "        vertical-align: middle;\n",
              "    }\n",
              "\n",
              "    .dataframe tbody tr th {\n",
              "        vertical-align: top;\n",
              "    }\n",
              "\n",
              "    .dataframe thead th {\n",
              "        text-align: right;\n",
              "    }\n",
              "</style>\n",
              "<table border=\"1\" class=\"dataframe\">\n",
              "  <thead>\n",
              "    <tr style=\"text-align: right;\">\n",
              "      <th></th>\n",
              "      <th>Jan</th>\n",
              "    </tr>\n",
              "  </thead>\n",
              "  <tbody>\n",
              "    <tr>\n",
              "      <th>90924002</th>\n",
              "      <td>1</td>\n",
              "    </tr>\n",
              "    <tr>\n",
              "      <th>1206445</th>\n",
              "      <td>1</td>\n",
              "    </tr>\n",
              "    <tr>\n",
              "      <th>1079788</th>\n",
              "      <td>1</td>\n",
              "    </tr>\n",
              "    <tr>\n",
              "      <th>261109</th>\n",
              "      <td>1</td>\n",
              "    </tr>\n",
              "    <tr>\n",
              "      <th>2686116</th>\n",
              "      <td>1</td>\n",
              "    </tr>\n",
              "    <tr>\n",
              "      <th>...</th>\n",
              "      <td>...</td>\n",
              "    </tr>\n",
              "    <tr>\n",
              "      <th>6635711</th>\n",
              "      <td>1</td>\n",
              "    </tr>\n",
              "    <tr>\n",
              "      <th>4657393</th>\n",
              "      <td>1</td>\n",
              "    </tr>\n",
              "    <tr>\n",
              "      <th>3683094</th>\n",
              "      <td>1</td>\n",
              "    </tr>\n",
              "    <tr>\n",
              "      <th>818929</th>\n",
              "      <td>1</td>\n",
              "    </tr>\n",
              "    <tr>\n",
              "      <th>545525</th>\n",
              "      <td>1</td>\n",
              "    </tr>\n",
              "  </tbody>\n",
              "</table>\n",
              "<p>351 rows × 1 columns</p>\n",
              "</div>\n",
              "      <button class=\"colab-df-convert\" onclick=\"convertToInteractive('df-040ef73d-cdc2-4f3e-ac6b-53383a973433')\"\n",
              "              title=\"Convert this dataframe to an interactive table.\"\n",
              "              style=\"display:none;\">\n",
              "        \n",
              "  <svg xmlns=\"http://www.w3.org/2000/svg\" height=\"24px\"viewBox=\"0 0 24 24\"\n",
              "       width=\"24px\">\n",
              "    <path d=\"M0 0h24v24H0V0z\" fill=\"none\"/>\n",
              "    <path d=\"M18.56 5.44l.94 2.06.94-2.06 2.06-.94-2.06-.94-.94-2.06-.94 2.06-2.06.94zm-11 1L8.5 8.5l.94-2.06 2.06-.94-2.06-.94L8.5 2.5l-.94 2.06-2.06.94zm10 10l.94 2.06.94-2.06 2.06-.94-2.06-.94-.94-2.06-.94 2.06-2.06.94z\"/><path d=\"M17.41 7.96l-1.37-1.37c-.4-.4-.92-.59-1.43-.59-.52 0-1.04.2-1.43.59L10.3 9.45l-7.72 7.72c-.78.78-.78 2.05 0 2.83L4 21.41c.39.39.9.59 1.41.59.51 0 1.02-.2 1.41-.59l7.78-7.78 2.81-2.81c.8-.78.8-2.07 0-2.86zM5.41 20L4 18.59l7.72-7.72 1.47 1.35L5.41 20z\"/>\n",
              "  </svg>\n",
              "      </button>\n",
              "      \n",
              "  <style>\n",
              "    .colab-df-container {\n",
              "      display:flex;\n",
              "      flex-wrap:wrap;\n",
              "      gap: 12px;\n",
              "    }\n",
              "\n",
              "    .colab-df-convert {\n",
              "      background-color: #E8F0FE;\n",
              "      border: none;\n",
              "      border-radius: 50%;\n",
              "      cursor: pointer;\n",
              "      display: none;\n",
              "      fill: #1967D2;\n",
              "      height: 32px;\n",
              "      padding: 0 0 0 0;\n",
              "      width: 32px;\n",
              "    }\n",
              "\n",
              "    .colab-df-convert:hover {\n",
              "      background-color: #E2EBFA;\n",
              "      box-shadow: 0px 1px 2px rgba(60, 64, 67, 0.3), 0px 1px 3px 1px rgba(60, 64, 67, 0.15);\n",
              "      fill: #174EA6;\n",
              "    }\n",
              "\n",
              "    [theme=dark] .colab-df-convert {\n",
              "      background-color: #3B4455;\n",
              "      fill: #D2E3FC;\n",
              "    }\n",
              "\n",
              "    [theme=dark] .colab-df-convert:hover {\n",
              "      background-color: #434B5C;\n",
              "      box-shadow: 0px 1px 3px 1px rgba(0, 0, 0, 0.15);\n",
              "      filter: drop-shadow(0px 1px 2px rgba(0, 0, 0, 0.3));\n",
              "      fill: #FFFFFF;\n",
              "    }\n",
              "  </style>\n",
              "\n",
              "      <script>\n",
              "        const buttonEl =\n",
              "          document.querySelector('#df-040ef73d-cdc2-4f3e-ac6b-53383a973433 button.colab-df-convert');\n",
              "        buttonEl.style.display =\n",
              "          google.colab.kernel.accessAllowed ? 'block' : 'none';\n",
              "\n",
              "        async function convertToInteractive(key) {\n",
              "          const element = document.querySelector('#df-040ef73d-cdc2-4f3e-ac6b-53383a973433');\n",
              "          const dataTable =\n",
              "            await google.colab.kernel.invokeFunction('convertToInteractive',\n",
              "                                                     [key], {});\n",
              "          if (!dataTable) return;\n",
              "\n",
              "          const docLinkHtml = 'Like what you see? Visit the ' +\n",
              "            '<a target=\"_blank\" href=https://colab.research.google.com/notebooks/data_table.ipynb>data table notebook</a>'\n",
              "            + ' to learn more about interactive tables.';\n",
              "          element.innerHTML = '';\n",
              "          dataTable['output_type'] = 'display_data';\n",
              "          await google.colab.output.renderOutput(dataTable, element);\n",
              "          const docLink = document.createElement('div');\n",
              "          docLink.innerHTML = docLinkHtml;\n",
              "          element.appendChild(docLink);\n",
              "        }\n",
              "      </script>\n",
              "    </div>\n",
              "  </div>\n",
              "  "
            ]
          },
          "metadata": {},
          "execution_count": 112
        }
      ]
    },
    {
      "cell_type": "code",
      "source": [
        "def ow(row):\n",
        "  if '(' in row:\n",
        "    row=row[1:]\n",
        "  if ')' in row:\n",
        "    row=row[:-1]\n",
        "  if '$' in row:\n",
        "    row=row.strip('$')\n",
        "  if ',' in row:\n",
        "    row=row.strip(',')\n",
        "  return row"
      ],
      "metadata": {
        "id": "0eRDpzhn8Ei0"
      },
      "execution_count": null,
      "outputs": []
    },
    {
      "cell_type": "code",
      "source": [
        "my_list=df.columns.tolist()"
      ],
      "metadata": {
        "id": "SkXr30RgA8XF"
      },
      "execution_count": null,
      "outputs": []
    },
    {
      "cell_type": "code",
      "source": [
        "my_list"
      ],
      "metadata": {
        "colab": {
          "base_uri": "https://localhost:8080/"
        },
        "id": "Ae2SVDR9BA6M",
        "outputId": "80dc13ee-23e3-4dac-afeb-d5690a48769d"
      },
      "execution_count": null,
      "outputs": [
        {
          "output_type": "execute_result",
          "data": {
            "text/plain": [
              "['Account',\n",
              " 'Businees Unit',\n",
              " 'Currency',\n",
              " 'Year',\n",
              " 'Scenario',\n",
              " 'Jan',\n",
              " 'Feb',\n",
              " 'Mar',\n",
              " 'Apr',\n",
              " 'May',\n",
              " 'Jun',\n",
              " 'Jul',\n",
              " 'Aug',\n",
              " 'Sep',\n",
              " 'Oct',\n",
              " 'Nov',\n",
              " 'Dec']"
            ]
          },
          "metadata": {},
          "execution_count": 94
        }
      ]
    },
    {
      "cell_type": "code",
      "source": [
        "for i in my_list[5:]:\n",
        "    df[i] = df[i].apply(lambda x: ow(x))\n"
      ],
      "metadata": {
        "id": "_5Mg0Ezm24io"
      },
      "execution_count": null,
      "outputs": []
    },
    {
      "cell_type": "code",
      "source": [
        "for i in my_list[5:]:\n",
        "  df[i]=df[i].apply(lambda x:x.replace(',',\"\"))\n",
        "  df[i] = pd.to_numeric(df[i])"
      ],
      "metadata": {
        "id": "s971TNPcCLIh"
      },
      "execution_count": null,
      "outputs": []
    },
    {
      "cell_type": "code",
      "source": [
        "df.head()"
      ],
      "metadata": {
        "colab": {
          "base_uri": "https://localhost:8080/",
          "height": 206
        },
        "id": "fzhQvMQp4MZt",
        "outputId": "28b7f4d7-2fd7-41bb-89ee-e1564fb3a327"
      },
      "execution_count": null,
      "outputs": [
        {
          "output_type": "execute_result",
          "data": {
            "text/plain": [
              "                          Account Businees Unit Currency  Year Scenario  \\\n",
              "0                           Sales      Software      USD  2012  Actuals   \n",
              "1              Cost of Goods Sold      Software      USD  2012  Actuals   \n",
              "2             Commissions Expense      Software      USD  2012  Actuals   \n",
              "3                 Payroll Expense      Software      USD  2012  Actuals   \n",
              "4  Travel & Entertainment Expense      Software      USD  2012  Actuals   \n",
              "\n",
              "        Jan       Feb       Mar       Apr       May       Jun       Jul  \\\n",
              "0  90924002  82606134  72780220  52943701  77528109  96384524  77345061   \n",
              "1  41623278  40464347  30806326  21412962  37047252  44819597  34847393   \n",
              "2   4454359   3386032   3389705   2149257   3168079   4417624   3386461   \n",
              "3   9901680   9871172   8459696   6303408   8493573  11082494   8081033   \n",
              "4    951255    838985    872700    624416    919835   1085296    818602   \n",
              "\n",
              "        Aug       Sep       Oct       Nov       Dec  \n",
              "0  98290873  79879127  95373403  54887908  82703597  \n",
              "1  47903350  35880653  44982115  26929424  34233473  \n",
              "2   4052846   3418737   4365527   2455561   3646726  \n",
              "3  11070018   8410665  10081727   6300578   9099438  \n",
              "4   1040585    803190   1158623    611335    941542  "
            ],
            "text/html": [
              "\n",
              "  <div id=\"df-3e9ece4d-bfe6-42bc-9dda-ba0db21b7250\">\n",
              "    <div class=\"colab-df-container\">\n",
              "      <div>\n",
              "<style scoped>\n",
              "    .dataframe tbody tr th:only-of-type {\n",
              "        vertical-align: middle;\n",
              "    }\n",
              "\n",
              "    .dataframe tbody tr th {\n",
              "        vertical-align: top;\n",
              "    }\n",
              "\n",
              "    .dataframe thead th {\n",
              "        text-align: right;\n",
              "    }\n",
              "</style>\n",
              "<table border=\"1\" class=\"dataframe\">\n",
              "  <thead>\n",
              "    <tr style=\"text-align: right;\">\n",
              "      <th></th>\n",
              "      <th>Account</th>\n",
              "      <th>Businees Unit</th>\n",
              "      <th>Currency</th>\n",
              "      <th>Year</th>\n",
              "      <th>Scenario</th>\n",
              "      <th>Jan</th>\n",
              "      <th>Feb</th>\n",
              "      <th>Mar</th>\n",
              "      <th>Apr</th>\n",
              "      <th>May</th>\n",
              "      <th>Jun</th>\n",
              "      <th>Jul</th>\n",
              "      <th>Aug</th>\n",
              "      <th>Sep</th>\n",
              "      <th>Oct</th>\n",
              "      <th>Nov</th>\n",
              "      <th>Dec</th>\n",
              "    </tr>\n",
              "  </thead>\n",
              "  <tbody>\n",
              "    <tr>\n",
              "      <th>0</th>\n",
              "      <td>Sales</td>\n",
              "      <td>Software</td>\n",
              "      <td>USD</td>\n",
              "      <td>2012</td>\n",
              "      <td>Actuals</td>\n",
              "      <td>90924002</td>\n",
              "      <td>82606134</td>\n",
              "      <td>72780220</td>\n",
              "      <td>52943701</td>\n",
              "      <td>77528109</td>\n",
              "      <td>96384524</td>\n",
              "      <td>77345061</td>\n",
              "      <td>98290873</td>\n",
              "      <td>79879127</td>\n",
              "      <td>95373403</td>\n",
              "      <td>54887908</td>\n",
              "      <td>82703597</td>\n",
              "    </tr>\n",
              "    <tr>\n",
              "      <th>1</th>\n",
              "      <td>Cost of Goods Sold</td>\n",
              "      <td>Software</td>\n",
              "      <td>USD</td>\n",
              "      <td>2012</td>\n",
              "      <td>Actuals</td>\n",
              "      <td>41623278</td>\n",
              "      <td>40464347</td>\n",
              "      <td>30806326</td>\n",
              "      <td>21412962</td>\n",
              "      <td>37047252</td>\n",
              "      <td>44819597</td>\n",
              "      <td>34847393</td>\n",
              "      <td>47903350</td>\n",
              "      <td>35880653</td>\n",
              "      <td>44982115</td>\n",
              "      <td>26929424</td>\n",
              "      <td>34233473</td>\n",
              "    </tr>\n",
              "    <tr>\n",
              "      <th>2</th>\n",
              "      <td>Commissions Expense</td>\n",
              "      <td>Software</td>\n",
              "      <td>USD</td>\n",
              "      <td>2012</td>\n",
              "      <td>Actuals</td>\n",
              "      <td>4454359</td>\n",
              "      <td>3386032</td>\n",
              "      <td>3389705</td>\n",
              "      <td>2149257</td>\n",
              "      <td>3168079</td>\n",
              "      <td>4417624</td>\n",
              "      <td>3386461</td>\n",
              "      <td>4052846</td>\n",
              "      <td>3418737</td>\n",
              "      <td>4365527</td>\n",
              "      <td>2455561</td>\n",
              "      <td>3646726</td>\n",
              "    </tr>\n",
              "    <tr>\n",
              "      <th>3</th>\n",
              "      <td>Payroll Expense</td>\n",
              "      <td>Software</td>\n",
              "      <td>USD</td>\n",
              "      <td>2012</td>\n",
              "      <td>Actuals</td>\n",
              "      <td>9901680</td>\n",
              "      <td>9871172</td>\n",
              "      <td>8459696</td>\n",
              "      <td>6303408</td>\n",
              "      <td>8493573</td>\n",
              "      <td>11082494</td>\n",
              "      <td>8081033</td>\n",
              "      <td>11070018</td>\n",
              "      <td>8410665</td>\n",
              "      <td>10081727</td>\n",
              "      <td>6300578</td>\n",
              "      <td>9099438</td>\n",
              "    </tr>\n",
              "    <tr>\n",
              "      <th>4</th>\n",
              "      <td>Travel &amp; Entertainment Expense</td>\n",
              "      <td>Software</td>\n",
              "      <td>USD</td>\n",
              "      <td>2012</td>\n",
              "      <td>Actuals</td>\n",
              "      <td>951255</td>\n",
              "      <td>838985</td>\n",
              "      <td>872700</td>\n",
              "      <td>624416</td>\n",
              "      <td>919835</td>\n",
              "      <td>1085296</td>\n",
              "      <td>818602</td>\n",
              "      <td>1040585</td>\n",
              "      <td>803190</td>\n",
              "      <td>1158623</td>\n",
              "      <td>611335</td>\n",
              "      <td>941542</td>\n",
              "    </tr>\n",
              "  </tbody>\n",
              "</table>\n",
              "</div>\n",
              "      <button class=\"colab-df-convert\" onclick=\"convertToInteractive('df-3e9ece4d-bfe6-42bc-9dda-ba0db21b7250')\"\n",
              "              title=\"Convert this dataframe to an interactive table.\"\n",
              "              style=\"display:none;\">\n",
              "        \n",
              "  <svg xmlns=\"http://www.w3.org/2000/svg\" height=\"24px\"viewBox=\"0 0 24 24\"\n",
              "       width=\"24px\">\n",
              "    <path d=\"M0 0h24v24H0V0z\" fill=\"none\"/>\n",
              "    <path d=\"M18.56 5.44l.94 2.06.94-2.06 2.06-.94-2.06-.94-.94-2.06-.94 2.06-2.06.94zm-11 1L8.5 8.5l.94-2.06 2.06-.94-2.06-.94L8.5 2.5l-.94 2.06-2.06.94zm10 10l.94 2.06.94-2.06 2.06-.94-2.06-.94-.94-2.06-.94 2.06-2.06.94z\"/><path d=\"M17.41 7.96l-1.37-1.37c-.4-.4-.92-.59-1.43-.59-.52 0-1.04.2-1.43.59L10.3 9.45l-7.72 7.72c-.78.78-.78 2.05 0 2.83L4 21.41c.39.39.9.59 1.41.59.51 0 1.02-.2 1.41-.59l7.78-7.78 2.81-2.81c.8-.78.8-2.07 0-2.86zM5.41 20L4 18.59l7.72-7.72 1.47 1.35L5.41 20z\"/>\n",
              "  </svg>\n",
              "      </button>\n",
              "      \n",
              "  <style>\n",
              "    .colab-df-container {\n",
              "      display:flex;\n",
              "      flex-wrap:wrap;\n",
              "      gap: 12px;\n",
              "    }\n",
              "\n",
              "    .colab-df-convert {\n",
              "      background-color: #E8F0FE;\n",
              "      border: none;\n",
              "      border-radius: 50%;\n",
              "      cursor: pointer;\n",
              "      display: none;\n",
              "      fill: #1967D2;\n",
              "      height: 32px;\n",
              "      padding: 0 0 0 0;\n",
              "      width: 32px;\n",
              "    }\n",
              "\n",
              "    .colab-df-convert:hover {\n",
              "      background-color: #E2EBFA;\n",
              "      box-shadow: 0px 1px 2px rgba(60, 64, 67, 0.3), 0px 1px 3px 1px rgba(60, 64, 67, 0.15);\n",
              "      fill: #174EA6;\n",
              "    }\n",
              "\n",
              "    [theme=dark] .colab-df-convert {\n",
              "      background-color: #3B4455;\n",
              "      fill: #D2E3FC;\n",
              "    }\n",
              "\n",
              "    [theme=dark] .colab-df-convert:hover {\n",
              "      background-color: #434B5C;\n",
              "      box-shadow: 0px 1px 3px 1px rgba(0, 0, 0, 0.15);\n",
              "      filter: drop-shadow(0px 1px 2px rgba(0, 0, 0, 0.3));\n",
              "      fill: #FFFFFF;\n",
              "    }\n",
              "  </style>\n",
              "\n",
              "      <script>\n",
              "        const buttonEl =\n",
              "          document.querySelector('#df-3e9ece4d-bfe6-42bc-9dda-ba0db21b7250 button.colab-df-convert');\n",
              "        buttonEl.style.display =\n",
              "          google.colab.kernel.accessAllowed ? 'block' : 'none';\n",
              "\n",
              "        async function convertToInteractive(key) {\n",
              "          const element = document.querySelector('#df-3e9ece4d-bfe6-42bc-9dda-ba0db21b7250');\n",
              "          const dataTable =\n",
              "            await google.colab.kernel.invokeFunction('convertToInteractive',\n",
              "                                                     [key], {});\n",
              "          if (!dataTable) return;\n",
              "\n",
              "          const docLinkHtml = 'Like what you see? Visit the ' +\n",
              "            '<a target=\"_blank\" href=https://colab.research.google.com/notebooks/data_table.ipynb>data table notebook</a>'\n",
              "            + ' to learn more about interactive tables.';\n",
              "          element.innerHTML = '';\n",
              "          dataTable['output_type'] = 'display_data';\n",
              "          await google.colab.output.renderOutput(dataTable, element);\n",
              "          const docLink = document.createElement('div');\n",
              "          docLink.innerHTML = docLinkHtml;\n",
              "          element.appendChild(docLink);\n",
              "        }\n",
              "      </script>\n",
              "    </div>\n",
              "  </div>\n",
              "  "
            ]
          },
          "metadata": {},
          "execution_count": 114
        }
      ]
    },
    {
      "cell_type": "code",
      "source": [
        "df['Feb'] = df['Feb'].apply(lambda x: ow(x))"
      ],
      "metadata": {
        "id": "jxsZeKKZ4OXL"
      },
      "execution_count": null,
      "outputs": []
    },
    {
      "cell_type": "code",
      "source": [
        "df.head()"
      ],
      "metadata": {
        "colab": {
          "base_uri": "https://localhost:8080/",
          "height": 374
        },
        "id": "X6zPBEpx4gf-",
        "outputId": "85c29f6f-a15a-440f-df8f-1240cefd1601"
      },
      "execution_count": null,
      "outputs": [
        {
          "output_type": "execute_result",
          "data": {
            "text/plain": [
              "                          Account Businees Unit Currency  Year Scenario  \\\n",
              "0                           Sales      Software      USD  2012  Actuals   \n",
              "1              Cost of Goods Sold      Software      USD  2012  Actuals   \n",
              "2             Commissions Expense      Software      USD  2012  Actuals   \n",
              "3                 Payroll Expense      Software      USD  2012  Actuals   \n",
              "4  Travel & Entertainment Expense      Software      USD  2012  Actuals   \n",
              "\n",
              "           Jan            Feb            Mar            Apr            May  \\\n",
              "0  90,924,002    $82,606,134    $72,780,220    $52,943,701    $77,528,109    \n",
              "1   41,623,278  ($40,464,347)  ($30,806,326)  ($21,412,962)  ($37,047,252)   \n",
              "2    4,454,359   ($3,386,032)   ($3,389,705)   ($2,149,257)   ($3,168,079)   \n",
              "3    9,901,680   ($9,871,172)   ($8,459,696)   ($6,303,408)   ($8,493,573)   \n",
              "4      951,255     ($838,985)     ($872,700)     ($624,416)     ($919,835)   \n",
              "\n",
              "             Jun            Jul            Aug            Sep            Oct  \\\n",
              "0   $96,384,524    $77,345,061    $98,290,873    $79,879,127    $95,373,403    \n",
              "1  ($44,819,597)  ($34,847,393)  ($47,903,350)  ($35,880,653)  ($44,982,115)   \n",
              "2   ($4,417,624)   ($3,386,461)   ($4,052,846)   ($3,418,737)   ($4,365,527)   \n",
              "3  ($11,082,494)   ($8,081,033)  ($11,070,018)   ($8,410,665)  ($10,081,727)   \n",
              "4   ($1,085,296)     ($818,602)   ($1,040,585)     ($803,190)   ($1,158,623)   \n",
              "\n",
              "             Nov            Dec  \n",
              "0   $54,887,908    $82,703,597   \n",
              "1  ($26,929,424)  ($34,233,473)  \n",
              "2   ($2,455,561)   ($3,646,726)  \n",
              "3   ($6,300,578)   ($9,099,438)  \n",
              "4     ($611,335)     ($941,542)  "
            ],
            "text/html": [
              "\n",
              "  <div id=\"df-cff91cf3-45da-4088-aa5b-0a2dd603a50b\">\n",
              "    <div class=\"colab-df-container\">\n",
              "      <div>\n",
              "<style scoped>\n",
              "    .dataframe tbody tr th:only-of-type {\n",
              "        vertical-align: middle;\n",
              "    }\n",
              "\n",
              "    .dataframe tbody tr th {\n",
              "        vertical-align: top;\n",
              "    }\n",
              "\n",
              "    .dataframe thead th {\n",
              "        text-align: right;\n",
              "    }\n",
              "</style>\n",
              "<table border=\"1\" class=\"dataframe\">\n",
              "  <thead>\n",
              "    <tr style=\"text-align: right;\">\n",
              "      <th></th>\n",
              "      <th>Account</th>\n",
              "      <th>Businees Unit</th>\n",
              "      <th>Currency</th>\n",
              "      <th>Year</th>\n",
              "      <th>Scenario</th>\n",
              "      <th>Jan</th>\n",
              "      <th>Feb</th>\n",
              "      <th>Mar</th>\n",
              "      <th>Apr</th>\n",
              "      <th>May</th>\n",
              "      <th>Jun</th>\n",
              "      <th>Jul</th>\n",
              "      <th>Aug</th>\n",
              "      <th>Sep</th>\n",
              "      <th>Oct</th>\n",
              "      <th>Nov</th>\n",
              "      <th>Dec</th>\n",
              "    </tr>\n",
              "  </thead>\n",
              "  <tbody>\n",
              "    <tr>\n",
              "      <th>0</th>\n",
              "      <td>Sales</td>\n",
              "      <td>Software</td>\n",
              "      <td>USD</td>\n",
              "      <td>2012</td>\n",
              "      <td>Actuals</td>\n",
              "      <td>90,924,002</td>\n",
              "      <td>$82,606,134</td>\n",
              "      <td>$72,780,220</td>\n",
              "      <td>$52,943,701</td>\n",
              "      <td>$77,528,109</td>\n",
              "      <td>$96,384,524</td>\n",
              "      <td>$77,345,061</td>\n",
              "      <td>$98,290,873</td>\n",
              "      <td>$79,879,127</td>\n",
              "      <td>$95,373,403</td>\n",
              "      <td>$54,887,908</td>\n",
              "      <td>$82,703,597</td>\n",
              "    </tr>\n",
              "    <tr>\n",
              "      <th>1</th>\n",
              "      <td>Cost of Goods Sold</td>\n",
              "      <td>Software</td>\n",
              "      <td>USD</td>\n",
              "      <td>2012</td>\n",
              "      <td>Actuals</td>\n",
              "      <td>41,623,278</td>\n",
              "      <td>($40,464,347)</td>\n",
              "      <td>($30,806,326)</td>\n",
              "      <td>($21,412,962)</td>\n",
              "      <td>($37,047,252)</td>\n",
              "      <td>($44,819,597)</td>\n",
              "      <td>($34,847,393)</td>\n",
              "      <td>($47,903,350)</td>\n",
              "      <td>($35,880,653)</td>\n",
              "      <td>($44,982,115)</td>\n",
              "      <td>($26,929,424)</td>\n",
              "      <td>($34,233,473)</td>\n",
              "    </tr>\n",
              "    <tr>\n",
              "      <th>2</th>\n",
              "      <td>Commissions Expense</td>\n",
              "      <td>Software</td>\n",
              "      <td>USD</td>\n",
              "      <td>2012</td>\n",
              "      <td>Actuals</td>\n",
              "      <td>4,454,359</td>\n",
              "      <td>($3,386,032)</td>\n",
              "      <td>($3,389,705)</td>\n",
              "      <td>($2,149,257)</td>\n",
              "      <td>($3,168,079)</td>\n",
              "      <td>($4,417,624)</td>\n",
              "      <td>($3,386,461)</td>\n",
              "      <td>($4,052,846)</td>\n",
              "      <td>($3,418,737)</td>\n",
              "      <td>($4,365,527)</td>\n",
              "      <td>($2,455,561)</td>\n",
              "      <td>($3,646,726)</td>\n",
              "    </tr>\n",
              "    <tr>\n",
              "      <th>3</th>\n",
              "      <td>Payroll Expense</td>\n",
              "      <td>Software</td>\n",
              "      <td>USD</td>\n",
              "      <td>2012</td>\n",
              "      <td>Actuals</td>\n",
              "      <td>9,901,680</td>\n",
              "      <td>($9,871,172)</td>\n",
              "      <td>($8,459,696)</td>\n",
              "      <td>($6,303,408)</td>\n",
              "      <td>($8,493,573)</td>\n",
              "      <td>($11,082,494)</td>\n",
              "      <td>($8,081,033)</td>\n",
              "      <td>($11,070,018)</td>\n",
              "      <td>($8,410,665)</td>\n",
              "      <td>($10,081,727)</td>\n",
              "      <td>($6,300,578)</td>\n",
              "      <td>($9,099,438)</td>\n",
              "    </tr>\n",
              "    <tr>\n",
              "      <th>4</th>\n",
              "      <td>Travel &amp; Entertainment Expense</td>\n",
              "      <td>Software</td>\n",
              "      <td>USD</td>\n",
              "      <td>2012</td>\n",
              "      <td>Actuals</td>\n",
              "      <td>951,255</td>\n",
              "      <td>($838,985)</td>\n",
              "      <td>($872,700)</td>\n",
              "      <td>($624,416)</td>\n",
              "      <td>($919,835)</td>\n",
              "      <td>($1,085,296)</td>\n",
              "      <td>($818,602)</td>\n",
              "      <td>($1,040,585)</td>\n",
              "      <td>($803,190)</td>\n",
              "      <td>($1,158,623)</td>\n",
              "      <td>($611,335)</td>\n",
              "      <td>($941,542)</td>\n",
              "    </tr>\n",
              "  </tbody>\n",
              "</table>\n",
              "</div>\n",
              "      <button class=\"colab-df-convert\" onclick=\"convertToInteractive('df-cff91cf3-45da-4088-aa5b-0a2dd603a50b')\"\n",
              "              title=\"Convert this dataframe to an interactive table.\"\n",
              "              style=\"display:none;\">\n",
              "        \n",
              "  <svg xmlns=\"http://www.w3.org/2000/svg\" height=\"24px\"viewBox=\"0 0 24 24\"\n",
              "       width=\"24px\">\n",
              "    <path d=\"M0 0h24v24H0V0z\" fill=\"none\"/>\n",
              "    <path d=\"M18.56 5.44l.94 2.06.94-2.06 2.06-.94-2.06-.94-.94-2.06-.94 2.06-2.06.94zm-11 1L8.5 8.5l.94-2.06 2.06-.94-2.06-.94L8.5 2.5l-.94 2.06-2.06.94zm10 10l.94 2.06.94-2.06 2.06-.94-2.06-.94-.94-2.06-.94 2.06-2.06.94z\"/><path d=\"M17.41 7.96l-1.37-1.37c-.4-.4-.92-.59-1.43-.59-.52 0-1.04.2-1.43.59L10.3 9.45l-7.72 7.72c-.78.78-.78 2.05 0 2.83L4 21.41c.39.39.9.59 1.41.59.51 0 1.02-.2 1.41-.59l7.78-7.78 2.81-2.81c.8-.78.8-2.07 0-2.86zM5.41 20L4 18.59l7.72-7.72 1.47 1.35L5.41 20z\"/>\n",
              "  </svg>\n",
              "      </button>\n",
              "      \n",
              "  <style>\n",
              "    .colab-df-container {\n",
              "      display:flex;\n",
              "      flex-wrap:wrap;\n",
              "      gap: 12px;\n",
              "    }\n",
              "\n",
              "    .colab-df-convert {\n",
              "      background-color: #E8F0FE;\n",
              "      border: none;\n",
              "      border-radius: 50%;\n",
              "      cursor: pointer;\n",
              "      display: none;\n",
              "      fill: #1967D2;\n",
              "      height: 32px;\n",
              "      padding: 0 0 0 0;\n",
              "      width: 32px;\n",
              "    }\n",
              "\n",
              "    .colab-df-convert:hover {\n",
              "      background-color: #E2EBFA;\n",
              "      box-shadow: 0px 1px 2px rgba(60, 64, 67, 0.3), 0px 1px 3px 1px rgba(60, 64, 67, 0.15);\n",
              "      fill: #174EA6;\n",
              "    }\n",
              "\n",
              "    [theme=dark] .colab-df-convert {\n",
              "      background-color: #3B4455;\n",
              "      fill: #D2E3FC;\n",
              "    }\n",
              "\n",
              "    [theme=dark] .colab-df-convert:hover {\n",
              "      background-color: #434B5C;\n",
              "      box-shadow: 0px 1px 3px 1px rgba(0, 0, 0, 0.15);\n",
              "      filter: drop-shadow(0px 1px 2px rgba(0, 0, 0, 0.3));\n",
              "      fill: #FFFFFF;\n",
              "    }\n",
              "  </style>\n",
              "\n",
              "      <script>\n",
              "        const buttonEl =\n",
              "          document.querySelector('#df-cff91cf3-45da-4088-aa5b-0a2dd603a50b button.colab-df-convert');\n",
              "        buttonEl.style.display =\n",
              "          google.colab.kernel.accessAllowed ? 'block' : 'none';\n",
              "\n",
              "        async function convertToInteractive(key) {\n",
              "          const element = document.querySelector('#df-cff91cf3-45da-4088-aa5b-0a2dd603a50b');\n",
              "          const dataTable =\n",
              "            await google.colab.kernel.invokeFunction('convertToInteractive',\n",
              "                                                     [key], {});\n",
              "          if (!dataTable) return;\n",
              "\n",
              "          const docLinkHtml = 'Like what you see? Visit the ' +\n",
              "            '<a target=\"_blank\" href=https://colab.research.google.com/notebooks/data_table.ipynb>data table notebook</a>'\n",
              "            + ' to learn more about interactive tables.';\n",
              "          element.innerHTML = '';\n",
              "          dataTable['output_type'] = 'display_data';\n",
              "          await google.colab.output.renderOutput(dataTable, element);\n",
              "          const docLink = document.createElement('div');\n",
              "          docLink.innerHTML = docLinkHtml;\n",
              "          element.appendChild(docLink);\n",
              "        }\n",
              "      </script>\n",
              "    </div>\n",
              "  </div>\n",
              "  "
            ]
          },
          "metadata": {},
          "execution_count": 53
        }
      ]
    },
    {
      "cell_type": "code",
      "source": [
        "pd.to_csv"
      ],
      "metadata": {
        "id": "GOf28BiH5Hji"
      },
      "execution_count": null,
      "outputs": []
    }
  ]
}